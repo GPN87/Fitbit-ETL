{
 "cells": [
  {
   "cell_type": "code",
   "execution_count": 2,
   "id": "1302a9f0",
   "metadata": {},
   "outputs": [],
   "source": [
    "from config import access_token, user_id\n",
    "import requests\n",
    "from pprint import pprint\n",
    "from datetime import date\n",
    "import schedule\n",
    "import time"
   ]
  },
  {
   "cell_type": "code",
   "execution_count": 3,
   "id": "61b5891c",
   "metadata": {},
   "outputs": [
    {
     "name": "stderr",
     "output_type": "stream",
     "text": [
      "/Users/gavinpayne/opt/anaconda3/envs/PythonData2/lib/python3.7/site-packages/ipykernel_launcher.py:3: MovedIn20Warning: Deprecated API features detected! These feature(s) are not compatible with SQLAlchemy 2.0. To prevent incompatible upgrades prior to updating applications, ensure requirements files are pinned to \"sqlalchemy<2.0\". Set environment variable SQLALCHEMY_WARN_20=1 to show all deprecation warnings.  Set environment variable SQLALCHEMY_SILENCE_UBER_WARNING=1 to silence this message. (Background on SQLAlchemy 2.0 at: https://sqlalche.me/e/b8d9)\n",
      "  This is separate from the ipykernel package so we can avoid doing imports until\n"
     ]
    }
   ],
   "source": [
    "from sqlalchemy import create_engine, Column, Integer, String, Float\n",
    "from sqlalchemy.ext.declarative import declarative_base\n",
    "Base = declarative_base()"
   ]
  },
  {
   "cell_type": "code",
   "execution_count": 4,
   "id": "6588c3dc",
   "metadata": {},
   "outputs": [],
   "source": [
    "#Creates classes to represent schema of our database\n",
    "\n",
    "class Steps(Base):\n",
    "    __tablename__ = 'intraday_steps'\n",
    "    id = Column(Integer, primary_key=True)\n",
    "    date = Column(String)\n",
    "    time = Column(String)\n",
    "    steps = Column(Integer)\n",
    "    \n",
    "    \n",
    "class Runs(Base):\n",
    "    __tablename__ = 'Runs'\n",
    "    id = Column(Integer, primary_key=True)\n",
    "    date = Column(String)\n",
    "    duration = Column(Integer)\n",
    "    distance= Column(Float)\n",
    "    pace = Column(Float)\n",
    "\n",
    "class Heartrate(Base):\n",
    "    __tablename__ = 'intraday_heartrate'\n",
    "    id = Column(Integer, primary_key=True)\n",
    "    date = Column(String)\n",
    "    time = Column(String)\n",
    "    rate = Column(Integer)\n",
    "    "
   ]
  },
  {
   "cell_type": "code",
   "execution_count": 5,
   "id": "57972a2e",
   "metadata": {},
   "outputs": [
    {
     "data": {
      "text/plain": [
       "FacadeDict({'intraday_steps': Table('intraday_steps', MetaData(), Column('id', Integer(), table=<intraday_steps>, primary_key=True, nullable=False), Column('date', String(), table=<intraday_steps>), Column('time', String(), table=<intraday_steps>), Column('steps', Integer(), table=<intraday_steps>), schema=None), 'Runs': Table('Runs', MetaData(), Column('id', Integer(), table=<Runs>, primary_key=True, nullable=False), Column('date', String(), table=<Runs>), Column('duration', Integer(), table=<Runs>), Column('distance', Float(), table=<Runs>), Column('pace', Float(), table=<Runs>), schema=None), 'intraday_heartrate': Table('intraday_heartrate', MetaData(), Column('id', Integer(), table=<intraday_heartrate>, primary_key=True, nullable=False), Column('date', String(), table=<intraday_heartrate>), Column('time', String(), table=<intraday_heartrate>), Column('rate', Integer(), table=<intraday_heartrate>), schema=None)})"
      ]
     },
     "execution_count": 5,
     "metadata": {},
     "output_type": "execute_result"
    }
   ],
   "source": [
    "Base.metadata.tables"
   ]
  },
  {
   "cell_type": "code",
   "execution_count": 6,
   "id": "e370e88c",
   "metadata": {},
   "outputs": [],
   "source": [
    "# Create our database engine\n",
    "engine = create_engine('sqlite:///fitbit.sqlite')\n",
    "conn = engine.connect()"
   ]
  },
  {
   "cell_type": "code",
   "execution_count": 7,
   "id": "dd274d31",
   "metadata": {},
   "outputs": [],
   "source": [
    "# This is where we create our tables in the database\n",
    "Base.metadata.create_all(conn)\n",
    "from sqlalchemy.orm import sessionmaker\n",
    "Session = sessionmaker(bind=engine)\n"
   ]
  },
  {
   "cell_type": "code",
   "execution_count": 8,
   "id": "ba746b3b",
   "metadata": {},
   "outputs": [],
   "source": [
    "today = date.today()\n",
    "today=today.strftime(\"%Y-%m-%d\")\n",
    "\n",
    "header = {'Authorization': 'Bearer '+access_token}\n",
    "url = f'https://api.fitbit.com/1/user/{user_id}/'\n",
    "steps_request = 'activities/steps/date/today/today/5min.json'\n",
    "steps_response = requests.get(f'{url}{steps_request}',headers=header).json()\n",
    "\n",
    "session = Session()\n",
    "\n",
    "#STEPS INTRADAY INSTANCE#\n",
    "for row in steps_response['activities-steps-intraday']['dataset']:\n",
    "    session.add(Steps(date=today,time=row['time'],steps=row['value']))\n",
    "session.commit()\n",
    "session.close()\n",
    "    \n",
    "\n"
   ]
  },
  {
   "cell_type": "code",
   "execution_count": 9,
   "id": "0df4de04",
   "metadata": {},
   "outputs": [],
   "source": [
    "session.query(Steps.date,Steps.time,Steps.steps).all()\n",
    "session.query(Steps).delete()\n",
    "session.commit()"
   ]
  },
  {
   "cell_type": "code",
   "execution_count": 10,
   "id": "d77a69d1",
   "metadata": {},
   "outputs": [],
   "source": [
    "#FUNTION MAKE RUN REQUEST\n",
    "today = date.today()\n",
    "today=today.strftime(\"%Y-%m-%d\")\n",
    "\n",
    "header = {'Authorization': 'Bearer '+ access_token}\n",
    "url = f'https://api.fitbit.com/1/user/{user_id}/'\n",
    "request = f'activities/list.json?afterDate={today}&sort=asc&offset=0&limit=10'\n",
    "run_request = requests.get(f'{url}{request}',headers=header).json()\n",
    "\n",
    "session = Session()\n",
    "#RUN SUMMARY INSTANCE#\n",
    "for row in run_request['activities']:\n",
    "    if row['activityName']=='Run':\n",
    "        session.add(Runs(date=today,duration=row['activeDuration'],distance=row['distance'],pace=row['pace']))\n",
    "session.commit()\n",
    "session.close()     \n"
   ]
  },
  {
   "cell_type": "code",
   "execution_count": 11,
   "id": "131237cf",
   "metadata": {},
   "outputs": [],
   "source": [
    "session.query(Runs.date,Runs.duration,Runs.distance,Runs.pace).all()\n",
    "session.query(Runs).delete()\n",
    "session.commit()"
   ]
  },
  {
   "cell_type": "code",
   "execution_count": 12,
   "id": "16aeb37a",
   "metadata": {},
   "outputs": [],
   "source": [
    "#FUNCTION MAKE HEART RATE REQUEST\n",
    "today = date.today()\n",
    "today=today.strftime(\"%Y-%m-%d\")\n",
    "\n",
    "header = {'Authorization': 'Bearer '+ access_token}\n",
    "url = f'https://api.fitbit.com/1/user/{user_id}/'\n",
    "request = f'activities/heart/date/{today}/1d/5min.json'\n",
    "heart_response=requests.get(f'{url}{request}',headers=header).json()\n",
    "\n",
    "session = Session()\n",
    "#HEARTRATE INTRADAY INSTANCE#\n",
    "for row in heart_response['activities-heart-intraday']['dataset']:\n",
    "    session.add(Heartrate(date=today,time=row['time'], rate=row['value']))\n",
    "\n",
    "session.commit()\n",
    "session.close()    \n",
    "\n"
   ]
  },
  {
   "cell_type": "code",
   "execution_count": 14,
   "id": "c0e0bae0",
   "metadata": {},
   "outputs": [],
   "source": [
    "session.query(Heartrate.date,Heartrate.time,Heartrate.rate).all()\n",
    "session.query(Heartrate).delete()\n",
    "session.commit()"
   ]
  },
  {
   "cell_type": "code",
   "execution_count": null,
   "id": "7eaae029",
   "metadata": {},
   "outputs": [],
   "source": []
  },
  {
   "cell_type": "code",
   "execution_count": null,
   "id": "0fd27262",
   "metadata": {},
   "outputs": [],
   "source": []
  }
 ],
 "metadata": {
  "kernelspec": {
   "display_name": "Python 3 (ipykernel)",
   "language": "python",
   "name": "python3"
  },
  "language_info": {
   "codemirror_mode": {
    "name": "ipython",
    "version": 3
   },
   "file_extension": ".py",
   "mimetype": "text/x-python",
   "name": "python",
   "nbconvert_exporter": "python",
   "pygments_lexer": "ipython3",
   "version": "3.7.7"
  }
 },
 "nbformat": 4,
 "nbformat_minor": 5
}
