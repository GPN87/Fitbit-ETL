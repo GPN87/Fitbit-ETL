{
 "cells": [
  {
   "cell_type": "code",
   "execution_count": 119,
   "id": "ca5dff1d",
   "metadata": {},
   "outputs": [],
   "source": [
    "import sqlalchemy\n",
    "from sqlalchemy.ext.automap import automap_base\n",
    "from sqlalchemy.orm import Session\n",
    "from sqlalchemy import create_engine, inspect\n",
    "from pprint import pprint"
   ]
  },
  {
   "cell_type": "code",
   "execution_count": 120,
   "id": "2b0ba220",
   "metadata": {},
   "outputs": [],
   "source": [
    "engine = create_engine('sqlite:///fitbit.sqlite')"
   ]
  },
  {
   "cell_type": "code",
   "execution_count": 121,
   "id": "151c31a2",
   "metadata": {},
   "outputs": [],
   "source": [
    "inspector = inspect(engine)"
   ]
  },
  {
   "cell_type": "code",
   "execution_count": 122,
   "id": "65b85055",
   "metadata": {},
   "outputs": [
    {
     "data": {
      "text/plain": [
       "['Runs', 'intraday_heartrate', 'intraday_steps']"
      ]
     },
     "execution_count": 122,
     "metadata": {},
     "output_type": "execute_result"
    }
   ],
   "source": [
    "inspector.get_table_names()"
   ]
  },
  {
   "cell_type": "code",
   "execution_count": 123,
   "id": "f272cd57",
   "metadata": {},
   "outputs": [],
   "source": [
    "Base = automap_base()\n",
    "Base.prepare(autoload_with=engine)"
   ]
  },
  {
   "cell_type": "code",
   "execution_count": 124,
   "id": "95dc24e8",
   "metadata": {},
   "outputs": [
    {
     "data": {
      "text/plain": [
       "['Runs', 'intraday_heartrate', 'intraday_steps']"
      ]
     },
     "execution_count": 124,
     "metadata": {},
     "output_type": "execute_result"
    }
   ],
   "source": [
    "Base.classes.keys()"
   ]
  },
  {
   "cell_type": "code",
   "execution_count": 125,
   "id": "24cdea83",
   "metadata": {},
   "outputs": [],
   "source": [
    "Runs = Base.classes.Runs\n",
    "Heartrate = Base.classes.intraday_heartrate\n",
    "Steps = Base.classes.intraday_steps"
   ]
  },
  {
   "cell_type": "code",
   "execution_count": 130,
   "id": "5ac90266",
   "metadata": {},
   "outputs": [
    {
     "data": {
      "text/plain": [
       "[]"
      ]
     },
     "execution_count": 130,
     "metadata": {},
     "output_type": "execute_result"
    }
   ],
   "source": [
    "session = Session(engine)\n",
    "\n",
    "session.query(Steps.date,Steps.time,Steps.steps).all()"
   ]
  },
  {
   "cell_type": "code",
   "execution_count": 131,
   "id": "48e0d503",
   "metadata": {},
   "outputs": [
    {
     "data": {
      "text/plain": [
       "[]"
      ]
     },
     "execution_count": 131,
     "metadata": {},
     "output_type": "execute_result"
    }
   ],
   "source": [
    "session.query(Runs.date,Runs.duration, Runs.distance, Runs.pace).all()"
   ]
  },
  {
   "cell_type": "code",
   "execution_count": 132,
   "id": "c41f90d4",
   "metadata": {},
   "outputs": [
    {
     "data": {
      "text/plain": [
       "[]"
      ]
     },
     "execution_count": 132,
     "metadata": {},
     "output_type": "execute_result"
    }
   ],
   "source": [
    "session.query(Heartrate.date,Heartrate.time, Heartrate.rate).all()"
   ]
  },
  {
   "cell_type": "code",
   "execution_count": null,
   "id": "29a8a9f3",
   "metadata": {},
   "outputs": [],
   "source": []
  },
  {
   "cell_type": "code",
   "execution_count": null,
   "id": "bda3c8b5",
   "metadata": {},
   "outputs": [],
   "source": []
  },
  {
   "cell_type": "code",
   "execution_count": null,
   "id": "b0635720",
   "metadata": {},
   "outputs": [],
   "source": []
  }
 ],
 "metadata": {
  "kernelspec": {
   "display_name": "Python 3 (ipykernel)",
   "language": "python",
   "name": "python3"
  },
  "language_info": {
   "codemirror_mode": {
    "name": "ipython",
    "version": 3
   },
   "file_extension": ".py",
   "mimetype": "text/x-python",
   "name": "python",
   "nbconvert_exporter": "python",
   "pygments_lexer": "ipython3",
   "version": "3.7.7"
  }
 },
 "nbformat": 4,
 "nbformat_minor": 5
}
