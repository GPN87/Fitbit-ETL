{
 "cells": [
  {
   "cell_type": "code",
   "execution_count": 40,
   "id": "27aa31df",
   "metadata": {},
   "outputs": [],
   "source": [
    "import sqlalchemy\n",
    "from sqlalchemy.ext.automap import automap_base\n",
    "from sqlalchemy.orm import Session\n",
    "from sqlalchemy import create_engine, inspect\n",
    "from pprint import pprint\n",
    "import pandas as pd"
   ]
  },
  {
   "cell_type": "code",
   "execution_count": 41,
   "id": "37347710",
   "metadata": {},
   "outputs": [],
   "source": [
    "engine = create_engine('sqlite:///fitbit.sqlite')"
   ]
  },
  {
   "cell_type": "code",
   "execution_count": 42,
   "id": "0f9700dc",
   "metadata": {},
   "outputs": [],
   "source": [
    "inspector = inspect(engine)"
   ]
  },
  {
   "cell_type": "code",
   "execution_count": 43,
   "id": "834b6270",
   "metadata": {},
   "outputs": [
    {
     "data": {
      "text/plain": [
       "['Runs', 'intraday_heartrate', 'intraday_steps']"
      ]
     },
     "execution_count": 43,
     "metadata": {},
     "output_type": "execute_result"
    }
   ],
   "source": [
    "inspector.get_table_names()"
   ]
  },
  {
   "cell_type": "code",
   "execution_count": 44,
   "id": "b600ecd4",
   "metadata": {},
   "outputs": [],
   "source": [
    "Base = automap_base()\n",
    "Base.prepare(autoload_with=engine)"
   ]
  },
  {
   "cell_type": "code",
   "execution_count": 45,
   "id": "f8594e17",
   "metadata": {},
   "outputs": [
    {
     "data": {
      "text/plain": [
       "['Runs', 'intraday_heartrate', 'intraday_steps']"
      ]
     },
     "execution_count": 45,
     "metadata": {},
     "output_type": "execute_result"
    }
   ],
   "source": [
    "Base.classes.keys()"
   ]
  },
  {
   "cell_type": "code",
   "execution_count": 46,
   "id": "ce11cbf2",
   "metadata": {},
   "outputs": [],
   "source": [
    "Runs = Base.classes.Runs\n",
    "Heartrate = Base.classes.intraday_heartrate\n",
    "Steps = Base.classes.intraday_steps"
   ]
  },
  {
   "cell_type": "code",
   "execution_count": 54,
   "id": "46bdbb6e",
   "metadata": {
    "scrolled": false
   },
   "outputs": [
    {
     "data": {
      "text/plain": [
       "[]"
      ]
     },
     "execution_count": 54,
     "metadata": {},
     "output_type": "execute_result"
    }
   ],
   "source": [
    "session = Session(engine)\n",
    "\n",
    "steps_data=session.query(Steps.date,Steps.time,Steps.steps).all()\n",
    "steps_data"
   ]
  },
  {
   "cell_type": "code",
   "execution_count": 55,
   "id": "4a7be897",
   "metadata": {},
   "outputs": [
    {
     "data": {
      "text/html": [
       "<div>\n",
       "<style scoped>\n",
       "    .dataframe tbody tr th:only-of-type {\n",
       "        vertical-align: middle;\n",
       "    }\n",
       "\n",
       "    .dataframe tbody tr th {\n",
       "        vertical-align: top;\n",
       "    }\n",
       "\n",
       "    .dataframe thead th {\n",
       "        text-align: right;\n",
       "    }\n",
       "</style>\n",
       "<table border=\"1\" class=\"dataframe\">\n",
       "  <thead>\n",
       "    <tr style=\"text-align: right;\">\n",
       "      <th></th>\n",
       "      <th>date</th>\n",
       "      <th>time</th>\n",
       "      <th>steps</th>\n",
       "    </tr>\n",
       "  </thead>\n",
       "  <tbody>\n",
       "  </tbody>\n",
       "</table>\n",
       "</div>"
      ],
      "text/plain": [
       "Empty DataFrame\n",
       "Columns: [date, time, steps]\n",
       "Index: []"
      ]
     },
     "execution_count": 55,
     "metadata": {},
     "output_type": "execute_result"
    }
   ],
   "source": [
    "steps_df=pd.DataFrame(steps_data, columns=['date','time','steps'])\n",
    "steps_df"
   ]
  },
  {
   "cell_type": "code",
   "execution_count": 49,
   "id": "4003c35f",
   "metadata": {},
   "outputs": [
    {
     "data": {
      "text/plain": [
       "[]"
      ]
     },
     "execution_count": 49,
     "metadata": {},
     "output_type": "execute_result"
    }
   ],
   "source": [
    "session.query(Runs.date,Runs.duration, Runs.distance, Runs.pace).all()"
   ]
  },
  {
   "cell_type": "code",
   "execution_count": 53,
   "id": "405485f8",
   "metadata": {},
   "outputs": [
    {
     "data": {
      "text/plain": [
       "[]"
      ]
     },
     "execution_count": 53,
     "metadata": {},
     "output_type": "execute_result"
    }
   ],
   "source": [
    "heartrate_data=session.query(Heartrate.date,Heartrate.time, Heartrate.rate).all()\n",
    "heartrate_data"
   ]
  },
  {
   "cell_type": "code",
   "execution_count": null,
   "id": "8d6e3a76",
   "metadata": {},
   "outputs": [],
   "source": []
  },
  {
   "cell_type": "code",
   "execution_count": 50,
   "id": "fa5aa658",
   "metadata": {},
   "outputs": [],
   "source": [
    "session.query(Steps.date,Steps.time,Steps.steps).all()\n",
    "session.query(Steps).delete()\n",
    "session.commit()"
   ]
  },
  {
   "cell_type": "code",
   "execution_count": 51,
   "id": "27ca99c9",
   "metadata": {},
   "outputs": [],
   "source": [
    "session.query(Runs.date,Runs.duration,Runs.distance,Runs.pace).all()\n",
    "session.query(Runs).delete()\n",
    "session.commit()"
   ]
  },
  {
   "cell_type": "code",
   "execution_count": 52,
   "id": "b62995a7",
   "metadata": {},
   "outputs": [],
   "source": [
    "session.query(Heartrate.date,Heartrate.time,Heartrate.rate).all()\n",
    "session.query(Heartrate).delete()\n",
    "session.commit()"
   ]
  },
  {
   "cell_type": "code",
   "execution_count": null,
   "id": "c759927f",
   "metadata": {},
   "outputs": [],
   "source": []
  }
 ],
 "metadata": {
  "kernelspec": {
   "display_name": "Python 3 (ipykernel)",
   "language": "python",
   "name": "python3"
  },
  "language_info": {
   "codemirror_mode": {
    "name": "ipython",
    "version": 3
   },
   "file_extension": ".py",
   "mimetype": "text/x-python",
   "name": "python",
   "nbconvert_exporter": "python",
   "pygments_lexer": "ipython3",
   "version": "3.7.7"
  }
 },
 "nbformat": 4,
 "nbformat_minor": 5
}
