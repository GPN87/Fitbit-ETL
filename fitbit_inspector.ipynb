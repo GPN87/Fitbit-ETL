{
 "cells": [
  {
   "cell_type": "code",
   "execution_count": 9,
   "id": "967e4c69",
   "metadata": {},
   "outputs": [],
   "source": [
    "import sqlalchemy\n",
    "from sqlalchemy.ext.automap import automap_base\n",
    "from sqlalchemy.orm import Session\n",
    "from sqlalchemy import create_engine, inspect\n",
    "from pprint import pprint\n",
    "import pandas as pd"
   ]
  },
  {
   "cell_type": "code",
   "execution_count": 10,
   "id": "87e3fade",
   "metadata": {},
   "outputs": [],
   "source": [
    "engine = create_engine('sqlite:///fitbit.sqlite')"
   ]
  },
  {
   "cell_type": "code",
   "execution_count": 11,
   "id": "99b57298",
   "metadata": {},
   "outputs": [],
   "source": [
    "inspector = inspect(engine)"
   ]
  },
  {
   "cell_type": "code",
   "execution_count": 12,
   "id": "b1393ac1",
   "metadata": {},
   "outputs": [
    {
     "data": {
      "text/plain": [
       "['Runs', 'intraday_heartrate', 'intraday_steps']"
      ]
     },
     "execution_count": 12,
     "metadata": {},
     "output_type": "execute_result"
    }
   ],
   "source": [
    "inspector.get_table_names()"
   ]
  },
  {
   "cell_type": "code",
   "execution_count": 13,
   "id": "3a415add",
   "metadata": {},
   "outputs": [],
   "source": [
    "Base = automap_base()\n",
    "Base.prepare(autoload_with=engine)"
   ]
  },
  {
   "cell_type": "code",
   "execution_count": 14,
   "id": "e0828d65",
   "metadata": {},
   "outputs": [
    {
     "data": {
      "text/plain": [
       "['Runs', 'intraday_heartrate', 'intraday_steps']"
      ]
     },
     "execution_count": 14,
     "metadata": {},
     "output_type": "execute_result"
    }
   ],
   "source": [
    "Base.classes.keys()"
   ]
  },
  {
   "cell_type": "code",
   "execution_count": 15,
   "id": "e5343cfe",
   "metadata": {},
   "outputs": [],
   "source": [
    "Runs = Base.classes.Runs\n",
    "Heartrate = Base.classes.intraday_heartrate\n",
    "Steps = Base.classes.intraday_steps"
   ]
  },
  {
   "cell_type": "code",
   "execution_count": 20,
   "id": "af5bda64",
   "metadata": {
    "scrolled": false
   },
   "outputs": [],
   "source": [
    "session = Session(engine)\n",
    "\n",
    "steps_data=session.query(Steps.date,Steps.time,Steps.steps).all()\n",
    "# steps_data"
   ]
  },
  {
   "cell_type": "code",
   "execution_count": 21,
   "id": "78d4698f",
   "metadata": {},
   "outputs": [
    {
     "data": {
      "text/html": [
       "<div>\n",
       "<style scoped>\n",
       "    .dataframe tbody tr th:only-of-type {\n",
       "        vertical-align: middle;\n",
       "    }\n",
       "\n",
       "    .dataframe tbody tr th {\n",
       "        vertical-align: top;\n",
       "    }\n",
       "\n",
       "    .dataframe thead th {\n",
       "        text-align: right;\n",
       "    }\n",
       "</style>\n",
       "<table border=\"1\" class=\"dataframe\">\n",
       "  <thead>\n",
       "    <tr style=\"text-align: right;\">\n",
       "      <th></th>\n",
       "      <th>date</th>\n",
       "      <th>time</th>\n",
       "      <th>steps</th>\n",
       "    </tr>\n",
       "  </thead>\n",
       "  <tbody>\n",
       "    <tr>\n",
       "      <th>0</th>\n",
       "      <td>2023-08-24</td>\n",
       "      <td>00:00:00</td>\n",
       "      <td>0</td>\n",
       "    </tr>\n",
       "    <tr>\n",
       "      <th>1</th>\n",
       "      <td>2023-08-24</td>\n",
       "      <td>00:05:00</td>\n",
       "      <td>0</td>\n",
       "    </tr>\n",
       "    <tr>\n",
       "      <th>2</th>\n",
       "      <td>2023-08-24</td>\n",
       "      <td>00:10:00</td>\n",
       "      <td>0</td>\n",
       "    </tr>\n",
       "    <tr>\n",
       "      <th>3</th>\n",
       "      <td>2023-08-24</td>\n",
       "      <td>00:15:00</td>\n",
       "      <td>0</td>\n",
       "    </tr>\n",
       "    <tr>\n",
       "      <th>4</th>\n",
       "      <td>2023-08-24</td>\n",
       "      <td>00:20:00</td>\n",
       "      <td>0</td>\n",
       "    </tr>\n",
       "    <tr>\n",
       "      <th>...</th>\n",
       "      <td>...</td>\n",
       "      <td>...</td>\n",
       "      <td>...</td>\n",
       "    </tr>\n",
       "    <tr>\n",
       "      <th>549</th>\n",
       "      <td>2023-08-25</td>\n",
       "      <td>22:35:00</td>\n",
       "      <td>0</td>\n",
       "    </tr>\n",
       "    <tr>\n",
       "      <th>550</th>\n",
       "      <td>2023-08-25</td>\n",
       "      <td>22:40:00</td>\n",
       "      <td>11</td>\n",
       "    </tr>\n",
       "    <tr>\n",
       "      <th>551</th>\n",
       "      <td>2023-08-25</td>\n",
       "      <td>22:45:00</td>\n",
       "      <td>0</td>\n",
       "    </tr>\n",
       "    <tr>\n",
       "      <th>552</th>\n",
       "      <td>2023-08-25</td>\n",
       "      <td>22:50:00</td>\n",
       "      <td>0</td>\n",
       "    </tr>\n",
       "    <tr>\n",
       "      <th>553</th>\n",
       "      <td>2023-08-25</td>\n",
       "      <td>22:55:00</td>\n",
       "      <td>0</td>\n",
       "    </tr>\n",
       "  </tbody>\n",
       "</table>\n",
       "<p>554 rows × 3 columns</p>\n",
       "</div>"
      ],
      "text/plain": [
       "           date      time  steps\n",
       "0    2023-08-24  00:00:00      0\n",
       "1    2023-08-24  00:05:00      0\n",
       "2    2023-08-24  00:10:00      0\n",
       "3    2023-08-24  00:15:00      0\n",
       "4    2023-08-24  00:20:00      0\n",
       "..          ...       ...    ...\n",
       "549  2023-08-25  22:35:00      0\n",
       "550  2023-08-25  22:40:00     11\n",
       "551  2023-08-25  22:45:00      0\n",
       "552  2023-08-25  22:50:00      0\n",
       "553  2023-08-25  22:55:00      0\n",
       "\n",
       "[554 rows x 3 columns]"
      ]
     },
     "execution_count": 21,
     "metadata": {},
     "output_type": "execute_result"
    }
   ],
   "source": [
    "steps_df=pd.DataFrame(steps_data, columns=['date','time','steps'])\n",
    "steps_df"
   ]
  },
  {
   "cell_type": "code",
   "execution_count": 18,
   "id": "09e3385c",
   "metadata": {},
   "outputs": [
    {
     "data": {
      "text/plain": [
       "[]"
      ]
     },
     "execution_count": 18,
     "metadata": {},
     "output_type": "execute_result"
    }
   ],
   "source": [
    "session.query(Runs.date,Runs.duration, Runs.distance, Runs.pace).all()"
   ]
  },
  {
   "cell_type": "code",
   "execution_count": 22,
   "id": "c945d662",
   "metadata": {},
   "outputs": [],
   "source": [
    "heartrate_data=session.query(Heartrate.date,Heartrate.time, Heartrate.rate).all()\n",
    "# heartrate_data"
   ]
  },
  {
   "cell_type": "code",
   "execution_count": null,
   "id": "908885f5",
   "metadata": {},
   "outputs": [],
   "source": []
  },
  {
   "cell_type": "code",
   "execution_count": 50,
   "id": "6c117626",
   "metadata": {},
   "outputs": [],
   "source": [
    "# session.query(Steps.date,Steps.time,Steps.steps).all()\n",
    "# session.query(Steps).delete()\n",
    "# session.commit()"
   ]
  },
  {
   "cell_type": "code",
   "execution_count": 51,
   "id": "9291a704",
   "metadata": {},
   "outputs": [],
   "source": [
    "# session.query(Runs.date,Runs.duration,Runs.distance,Runs.pace).all()\n",
    "# session.query(Runs).delete()\n",
    "# session.commit()"
   ]
  },
  {
   "cell_type": "code",
   "execution_count": 52,
   "id": "9a61854e",
   "metadata": {},
   "outputs": [],
   "source": [
    "# session.query(Heartrate.date,Heartrate.time,Heartrate.rate).all()\n",
    "# session.query(Heartrate).delete()\n",
    "# session.commit()"
   ]
  },
  {
   "cell_type": "code",
   "execution_count": null,
   "id": "7109bf5d",
   "metadata": {},
   "outputs": [],
   "source": []
  }
 ],
 "metadata": {
  "kernelspec": {
   "display_name": "Python 3 (ipykernel)",
   "language": "python",
   "name": "python3"
  },
  "language_info": {
   "codemirror_mode": {
    "name": "ipython",
    "version": 3
   },
   "file_extension": ".py",
   "mimetype": "text/x-python",
   "name": "python",
   "nbconvert_exporter": "python",
   "pygments_lexer": "ipython3",
   "version": "3.7.7"
  }
 },
 "nbformat": 4,
 "nbformat_minor": 5
}
