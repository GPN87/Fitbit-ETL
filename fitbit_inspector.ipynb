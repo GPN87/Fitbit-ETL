{
 "cells": [
  {
   "cell_type": "code",
   "execution_count": 84,
   "id": "e470fb34",
   "metadata": {},
   "outputs": [],
   "source": [
    "import sqlalchemy\n",
    "from sqlalchemy.ext.automap import automap_base\n",
    "from sqlalchemy.orm import Session\n",
    "from sqlalchemy import create_engine, inspect\n",
    "from pprint import pprint"
   ]
  },
  {
   "cell_type": "code",
   "execution_count": 85,
   "id": "0344b48e",
   "metadata": {},
   "outputs": [],
   "source": [
    "engine = create_engine('sqlite:///fitbit.sqlite')"
   ]
  },
  {
   "cell_type": "code",
   "execution_count": 86,
   "id": "e301ab65",
   "metadata": {},
   "outputs": [],
   "source": [
    "inspector = inspect(engine)"
   ]
  },
  {
   "cell_type": "code",
   "execution_count": 87,
   "id": "0a70423c",
   "metadata": {},
   "outputs": [
    {
     "data": {
      "text/plain": [
       "['Runs', 'intraday_heartrate', 'intraday_steps']"
      ]
     },
     "execution_count": 87,
     "metadata": {},
     "output_type": "execute_result"
    }
   ],
   "source": [
    "inspector.get_table_names()"
   ]
  },
  {
   "cell_type": "code",
   "execution_count": 88,
   "id": "8a2fad2d",
   "metadata": {},
   "outputs": [],
   "source": [
    "Base = automap_base()\n",
    "Base.prepare(autoload_with=engine)"
   ]
  },
  {
   "cell_type": "code",
   "execution_count": 89,
   "id": "967af347",
   "metadata": {},
   "outputs": [
    {
     "data": {
      "text/plain": [
       "['Runs', 'intraday_heartrate', 'intraday_steps']"
      ]
     },
     "execution_count": 89,
     "metadata": {},
     "output_type": "execute_result"
    }
   ],
   "source": [
    "Base.classes.keys()"
   ]
  },
  {
   "cell_type": "code",
   "execution_count": 90,
   "id": "88042964",
   "metadata": {},
   "outputs": [],
   "source": [
    "Runs = Base.classes.Runs\n",
    "Heartrate = Base.classes.intraday_heartrate\n",
    "Steps = Base.classes.intraday_steps"
   ]
  },
  {
   "cell_type": "code",
   "execution_count": 91,
   "id": "784fb735",
   "metadata": {},
   "outputs": [
    {
     "data": {
      "text/plain": [
       "[]"
      ]
     },
     "execution_count": 91,
     "metadata": {},
     "output_type": "execute_result"
    }
   ],
   "source": [
    "session = Session(engine)\n",
    "\n",
    "session.query(Steps.date,Steps.time,Steps.steps).all()"
   ]
  },
  {
   "cell_type": "code",
   "execution_count": 92,
   "id": "af643273",
   "metadata": {},
   "outputs": [
    {
     "data": {
      "text/plain": [
       "[]"
      ]
     },
     "execution_count": 92,
     "metadata": {},
     "output_type": "execute_result"
    }
   ],
   "source": [
    "session.query(Runs.date,Runs.duration, Runs.distance, Runs.pace).all()"
   ]
  },
  {
   "cell_type": "code",
   "execution_count": 93,
   "id": "ea536384",
   "metadata": {},
   "outputs": [
    {
     "data": {
      "text/plain": [
       "[]"
      ]
     },
     "execution_count": 93,
     "metadata": {},
     "output_type": "execute_result"
    }
   ],
   "source": [
    "session.query(Heartrate.date,Heartrate.time, Heartrate.rate).all()"
   ]
  },
  {
   "cell_type": "code",
   "execution_count": null,
   "id": "9ab21770",
   "metadata": {},
   "outputs": [],
   "source": []
  },
  {
   "cell_type": "code",
   "execution_count": null,
   "id": "5f2d9e23",
   "metadata": {},
   "outputs": [],
   "source": []
  },
  {
   "cell_type": "code",
   "execution_count": null,
   "id": "f7782af4",
   "metadata": {},
   "outputs": [],
   "source": []
  }
 ],
 "metadata": {
  "kernelspec": {
   "display_name": "Python 3 (ipykernel)",
   "language": "python",
   "name": "python3"
  },
  "language_info": {
   "codemirror_mode": {
    "name": "ipython",
    "version": 3
   },
   "file_extension": ".py",
   "mimetype": "text/x-python",
   "name": "python",
   "nbconvert_exporter": "python",
   "pygments_lexer": "ipython3",
   "version": "3.7.7"
  }
 },
 "nbformat": 4,
 "nbformat_minor": 5
}
