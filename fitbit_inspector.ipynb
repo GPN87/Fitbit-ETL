{
 "cells": [
  {
   "cell_type": "code",
   "execution_count": 122,
   "id": "3bbf789d",
   "metadata": {},
   "outputs": [],
   "source": [
    "import sqlalchemy\n",
    "from sqlalchemy.ext.automap import automap_base\n",
    "from sqlalchemy.orm import Session\n",
    "from sqlalchemy import create_engine, inspect\n",
    "from pprint import pprint\n",
    "import pandas as pd"
   ]
  },
  {
   "cell_type": "code",
   "execution_count": 123,
   "id": "21c2a907",
   "metadata": {},
   "outputs": [],
   "source": [
    "engine = create_engine('sqlite:///fitbit.sqlite')"
   ]
  },
  {
   "cell_type": "code",
   "execution_count": 124,
   "id": "a22c95b5",
   "metadata": {},
   "outputs": [],
   "source": [
    "inspector = inspect(engine)"
   ]
  },
  {
   "cell_type": "code",
   "execution_count": 125,
   "id": "aba6981c",
   "metadata": {},
   "outputs": [
    {
     "data": {
      "text/plain": [
       "['Runs', 'intraday_heartrate', 'intraday_steps']"
      ]
     },
     "execution_count": 125,
     "metadata": {},
     "output_type": "execute_result"
    }
   ],
   "source": [
    "inspector.get_table_names()"
   ]
  },
  {
   "cell_type": "code",
   "execution_count": 126,
   "id": "886b5d68",
   "metadata": {},
   "outputs": [],
   "source": [
    "Base = automap_base()\n",
    "Base.prepare(autoload_with=engine)"
   ]
  },
  {
   "cell_type": "code",
   "execution_count": 127,
   "id": "651a7cc8",
   "metadata": {},
   "outputs": [
    {
     "data": {
      "text/plain": [
       "['Runs', 'intraday_heartrate', 'intraday_steps']"
      ]
     },
     "execution_count": 127,
     "metadata": {},
     "output_type": "execute_result"
    }
   ],
   "source": [
    "Base.classes.keys()"
   ]
  },
  {
   "cell_type": "code",
   "execution_count": 128,
   "id": "13c70f9c",
   "metadata": {},
   "outputs": [],
   "source": [
    "Runs = Base.classes.Runs\n",
    "Heartrate = Base.classes.intraday_heartrate\n",
    "Steps = Base.classes.intraday_steps"
   ]
  },
  {
   "cell_type": "code",
   "execution_count": 129,
   "id": "e137eecf",
   "metadata": {
    "scrolled": false
   },
   "outputs": [
    {
     "data": {
      "text/plain": [
       "[]"
      ]
     },
     "execution_count": 129,
     "metadata": {},
     "output_type": "execute_result"
    }
   ],
   "source": [
    "session = Session(engine)\n",
    "\n",
    "steps_data=session.query(Steps.date,Steps.time,Steps.steps).all()\n",
    "steps_data"
   ]
  },
  {
   "cell_type": "code",
   "execution_count": 114,
   "id": "12aa6fd3",
   "metadata": {},
   "outputs": [],
   "source": [
    "# steps_df=pd.DataFrame(steps_data, columns=['date','time','steps'])\n",
    "# steps_df.head(24)"
   ]
  },
  {
   "cell_type": "code",
   "execution_count": 115,
   "id": "da8d6e87",
   "metadata": {},
   "outputs": [
    {
     "data": {
      "text/plain": [
       "[]"
      ]
     },
     "execution_count": 115,
     "metadata": {},
     "output_type": "execute_result"
    }
   ],
   "source": [
    "session.query(Runs.date,Runs.duration, Runs.distance, Runs.pace).all()"
   ]
  },
  {
   "cell_type": "code",
   "execution_count": 120,
   "id": "8503b4cf",
   "metadata": {},
   "outputs": [
    {
     "data": {
      "text/plain": [
       "[]"
      ]
     },
     "execution_count": 120,
     "metadata": {},
     "output_type": "execute_result"
    }
   ],
   "source": [
    "heartrate_data=session.query(Heartrate.date,Heartrate.time, Heartrate.rate).all()\n",
    "heartrate_data"
   ]
  },
  {
   "cell_type": "code",
   "execution_count": null,
   "id": "977edf4e",
   "metadata": {},
   "outputs": [],
   "source": []
  },
  {
   "cell_type": "code",
   "execution_count": 117,
   "id": "c73b2bd3",
   "metadata": {},
   "outputs": [],
   "source": [
    "session.query(Steps.date,Steps.time,Steps.steps).all()\n",
    "session.query(Steps).delete()\n",
    "session.commit()"
   ]
  },
  {
   "cell_type": "code",
   "execution_count": 118,
   "id": "6ed44c27",
   "metadata": {},
   "outputs": [],
   "source": [
    "session.query(Runs.date,Runs.duration,Runs.distance,Runs.pace).all()\n",
    "session.query(Runs).delete()\n",
    "session.commit()"
   ]
  },
  {
   "cell_type": "code",
   "execution_count": 119,
   "id": "908a0e61",
   "metadata": {},
   "outputs": [],
   "source": [
    "session.query(Heartrate.date,Heartrate.time,Heartrate.rate).all()\n",
    "session.query(Heartrate).delete()\n",
    "session.commit()"
   ]
  },
  {
   "cell_type": "code",
   "execution_count": null,
   "id": "77ef648c",
   "metadata": {},
   "outputs": [],
   "source": []
  }
 ],
 "metadata": {
  "kernelspec": {
   "display_name": "Python 3 (ipykernel)",
   "language": "python",
   "name": "python3"
  },
  "language_info": {
   "codemirror_mode": {
    "name": "ipython",
    "version": 3
   },
   "file_extension": ".py",
   "mimetype": "text/x-python",
   "name": "python",
   "nbconvert_exporter": "python",
   "pygments_lexer": "ipython3",
   "version": "3.7.7"
  }
 },
 "nbformat": 4,
 "nbformat_minor": 5
}
